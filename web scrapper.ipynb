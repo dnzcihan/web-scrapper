{
 "cells": [
  {
   "cell_type": "code",
   "execution_count": 8,
   "metadata": {},
   "outputs": [
    {
     "name": "stdout",
     "output_type": "stream",
     "text": [
      "enter web site adress : https://www.hepsiburada.com/asus-x542ur-gq030-intel-core-i7-7500u-8gb-1tb-gt930mx-freedos-15-6-tasinabilir-bilgisayar-p-HBV000008OBG5\n"
     ]
    },
    {
     "data": {
      "text/plain": [
       "'\\n3.949,00\\nTL\\n( / adet)\\n'"
      ]
     },
     "execution_count": 8,
     "metadata": {},
     "output_type": "execute_result"
    }
   ],
   "source": [
    "import urllib.request\n",
    "from bs4 import BeautifulSoup\n",
    "\n",
    "adress = input('enter web site adress : ')\n",
    "\n",
    "headers_codes = {\n",
    "  'User-Agent' : \"Mozilla/5.0 (Macintosh; Intel Mac OS X 10_14_0) AppleWebKit/537.36 (KHTML, like Gecko) Chrome/70.0.3538.77 Safari/537.36\"\n",
    "\n",
    "}\n",
    "\n",
    "request_1 = urllib.request.Request(adress,headers=headers_codes)\n",
    "html_1=urllib.request.urlopen(request_1)\n",
    "#print(html_1.read())\n",
    "soup= BeautifulSoup(html_1,'html.parser')\n",
    "a =soup.find(\"div\",attrs={\"class\":\"price-wrapper\"})\n",
    "b= soup.find(\"span\",attrs={\"class\":\"price\"})\n",
    "b.text\n"
   ]
  },
  {
   "cell_type": "code",
   "execution_count": null,
   "metadata": {},
   "outputs": [],
   "source": []
  }
 ],
 "metadata": {
  "kernelspec": {
   "display_name": "Python 3",
   "language": "python",
   "name": "python3"
  },
  "language_info": {
   "codemirror_mode": {
    "name": "ipython",
    "version": 3
   },
   "file_extension": ".py",
   "mimetype": "text/x-python",
   "name": "python",
   "nbconvert_exporter": "python",
   "pygments_lexer": "ipython3",
   "version": "3.6.5"
  }
 },
 "nbformat": 4,
 "nbformat_minor": 2
}
